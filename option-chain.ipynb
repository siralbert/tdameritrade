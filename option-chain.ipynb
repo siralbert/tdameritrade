{
 "cells": [
  {
   "cell_type": "markdown",
   "metadata": {},
   "source": [
    "# General Usage"
   ]
  },
  {
   "cell_type": "code",
   "execution_count": 1,
   "metadata": {},
   "outputs": [],
   "source": [
    "from pprint import pprint\n",
    "import tdameritrade as td\n",
    "import os\n",
    "import json"
   ]
  },
  {
   "cell_type": "markdown",
   "metadata": {},
   "source": [
    "## Authentication\n",
    "\n"
   ]
  },
  {
   "cell_type": "code",
   "execution_count": 2,
   "metadata": {},
   "outputs": [],
   "source": [
    "# get refreshtoken from file\n",
    "refreshtoken = open(os.path.expanduser('~/.r_token'), 'r')\n",
    "line = refreshtoken.readline()\n",
    "refreshtoken.close()\n",
    "\n",
    "client_id = os.getenv('TDAMERITRADE_CLIENT_ID')\n",
    "account_id = os.getenv('TDAMERITRADE_ACCOUNT_ID')\n",
    "\n",
    "# authenticate and initialize TD Client\n",
    "td_client = td.TDClient(client_id=client_id, refresh_token=line)\n",
    "\n"
   ]
  },
  {
   "cell_type": "markdown",
   "metadata": {},
   "source": [
    "## API Examples"
   ]
  },
  {
   "cell_type": "code",
   "execution_count": 3,
   "metadata": {},
   "outputs": [
    {
     "data": {
      "text/html": [
       "<div>\n",
       "<style scoped>\n",
       "    .dataframe tbody tr th:only-of-type {\n",
       "        vertical-align: middle;\n",
       "    }\n",
       "\n",
       "    .dataframe tbody tr th {\n",
       "        vertical-align: top;\n",
       "    }\n",
       "\n",
       "    .dataframe thead th {\n",
       "        text-align: right;\n",
       "    }\n",
       "</style>\n",
       "<table border=\"1\" class=\"dataframe\">\n",
       "  <thead>\n",
       "    <tr style=\"text-align: right;\">\n",
       "      <th></th>\n",
       "      <th>open</th>\n",
       "      <th>high</th>\n",
       "      <th>low</th>\n",
       "      <th>close</th>\n",
       "      <th>volume</th>\n",
       "      <th>datetime</th>\n",
       "    </tr>\n",
       "  </thead>\n",
       "  <tbody>\n",
       "    <tr>\n",
       "      <th>0</th>\n",
       "      <td>136.41</td>\n",
       "      <td>136.50</td>\n",
       "      <td>136.38</td>\n",
       "      <td>136.50</td>\n",
       "      <td>15760</td>\n",
       "      <td>1612958400000</td>\n",
       "    </tr>\n",
       "    <tr>\n",
       "      <th>1</th>\n",
       "      <td>136.47</td>\n",
       "      <td>136.50</td>\n",
       "      <td>136.43</td>\n",
       "      <td>136.43</td>\n",
       "      <td>2762</td>\n",
       "      <td>1612958460000</td>\n",
       "    </tr>\n",
       "    <tr>\n",
       "      <th>2</th>\n",
       "      <td>136.43</td>\n",
       "      <td>136.48</td>\n",
       "      <td>136.43</td>\n",
       "      <td>136.48</td>\n",
       "      <td>1416</td>\n",
       "      <td>1612958520000</td>\n",
       "    </tr>\n",
       "    <tr>\n",
       "      <th>3</th>\n",
       "      <td>136.47</td>\n",
       "      <td>136.50</td>\n",
       "      <td>136.45</td>\n",
       "      <td>136.50</td>\n",
       "      <td>5083</td>\n",
       "      <td>1612958580000</td>\n",
       "    </tr>\n",
       "    <tr>\n",
       "      <th>4</th>\n",
       "      <td>136.47</td>\n",
       "      <td>136.47</td>\n",
       "      <td>136.44</td>\n",
       "      <td>136.44</td>\n",
       "      <td>1776</td>\n",
       "      <td>1612958640000</td>\n",
       "    </tr>\n",
       "  </tbody>\n",
       "</table>\n",
       "</div>"
      ],
      "text/plain": [
       "     open    high     low   close  volume       datetime\n",
       "0  136.41  136.50  136.38  136.50   15760  1612958400000\n",
       "1  136.47  136.50  136.43  136.43    2762  1612958460000\n",
       "2  136.43  136.48  136.43  136.48    1416  1612958520000\n",
       "3  136.47  136.50  136.45  136.50    5083  1612958580000\n",
       "4  136.47  136.47  136.44  136.44    1776  1612958640000"
      ]
     },
     "execution_count": 3,
     "metadata": {},
     "output_type": "execute_result"
    }
   ],
   "source": [
    "import pandas as pd\n",
    "pd.DataFrame(td_client.history('AAPL')['candles']).head()"
   ]
  },
  {
   "cell_type": "markdown",
   "metadata": {},
   "source": [
    "### Getting Option Data"
   ]
  },
  {
   "cell_type": "code",
   "execution_count": 4,
   "metadata": {
    "tags": []
   },
   "outputs": [
    {
     "data": {
      "text/html": [
       "<div>\n",
       "<style scoped>\n",
       "    .dataframe tbody tr th:only-of-type {\n",
       "        vertical-align: middle;\n",
       "    }\n",
       "\n",
       "    .dataframe tbody tr th {\n",
       "        vertical-align: top;\n",
       "    }\n",
       "\n",
       "    .dataframe thead th {\n",
       "        text-align: right;\n",
       "    }\n",
       "</style>\n",
       "<table border=\"1\" class=\"dataframe\">\n",
       "  <thead>\n",
       "    <tr style=\"text-align: right;\">\n",
       "      <th></th>\n",
       "      <th>symbol</th>\n",
       "      <th>delta</th>\n",
       "      <th>expirationDate</th>\n",
       "    </tr>\n",
       "  </thead>\n",
       "  <tbody>\n",
       "    <tr>\n",
       "      <th>0</th>\n",
       "      <td>BAX_022621C40</td>\n",
       "      <td>0.94</td>\n",
       "      <td>2021-02-26 21:00:00</td>\n",
       "    </tr>\n",
       "    <tr>\n",
       "      <th>1</th>\n",
       "      <td>BAX_022621C45</td>\n",
       "      <td>0.927</td>\n",
       "      <td>2021-02-26 21:00:00</td>\n",
       "    </tr>\n",
       "    <tr>\n",
       "      <th>2</th>\n",
       "      <td>BAX_022621C50</td>\n",
       "      <td>0.912</td>\n",
       "      <td>2021-02-26 21:00:00</td>\n",
       "    </tr>\n",
       "    <tr>\n",
       "      <th>3</th>\n",
       "      <td>BAX_022621C55</td>\n",
       "      <td>0.894</td>\n",
       "      <td>2021-02-26 21:00:00</td>\n",
       "    </tr>\n",
       "    <tr>\n",
       "      <th>4</th>\n",
       "      <td>BAX_022621C60</td>\n",
       "      <td>0.869</td>\n",
       "      <td>2021-02-26 21:00:00</td>\n",
       "    </tr>\n",
       "    <tr>\n",
       "      <th>...</th>\n",
       "      <td>...</td>\n",
       "      <td>...</td>\n",
       "      <td>...</td>\n",
       "    </tr>\n",
       "    <tr>\n",
       "      <th>773</th>\n",
       "      <td>BAX_012023P105</td>\n",
       "      <td>-0.773</td>\n",
       "      <td>2023-01-20 21:00:00</td>\n",
       "    </tr>\n",
       "    <tr>\n",
       "      <th>774</th>\n",
       "      <td>BAX_012023P110</td>\n",
       "      <td>-0.82</td>\n",
       "      <td>2023-01-20 21:00:00</td>\n",
       "    </tr>\n",
       "    <tr>\n",
       "      <th>775</th>\n",
       "      <td>BAX_012023P115</td>\n",
       "      <td>-0.845</td>\n",
       "      <td>2023-01-20 21:00:00</td>\n",
       "    </tr>\n",
       "    <tr>\n",
       "      <th>776</th>\n",
       "      <td>BAX_012023P120</td>\n",
       "      <td>-0.883</td>\n",
       "      <td>2023-01-20 21:00:00</td>\n",
       "    </tr>\n",
       "    <tr>\n",
       "      <th>777</th>\n",
       "      <td>BAX_012023P125</td>\n",
       "      <td>-0.885</td>\n",
       "      <td>2023-01-20 21:00:00</td>\n",
       "    </tr>\n",
       "  </tbody>\n",
       "</table>\n",
       "<p>778 rows × 3 columns</p>\n",
       "</div>"
      ],
      "text/plain": [
       "             symbol  delta      expirationDate\n",
       "0     BAX_022621C40   0.94 2021-02-26 21:00:00\n",
       "1     BAX_022621C45  0.927 2021-02-26 21:00:00\n",
       "2     BAX_022621C50  0.912 2021-02-26 21:00:00\n",
       "3     BAX_022621C55  0.894 2021-02-26 21:00:00\n",
       "4     BAX_022621C60  0.869 2021-02-26 21:00:00\n",
       "..              ...    ...                 ...\n",
       "773  BAX_012023P105 -0.773 2023-01-20 21:00:00\n",
       "774  BAX_012023P110  -0.82 2023-01-20 21:00:00\n",
       "775  BAX_012023P115 -0.845 2023-01-20 21:00:00\n",
       "776  BAX_012023P120 -0.883 2023-01-20 21:00:00\n",
       "777  BAX_012023P125 -0.885 2023-01-20 21:00:00\n",
       "\n",
       "[778 rows x 3 columns]"
      ]
     },
     "execution_count": 4,
     "metadata": {},
     "output_type": "execute_result"
    }
   ],
   "source": [
    "#options = td_client.options('BAX')\n",
    "#expiry_dates = list(options['callExpDateMap'].keys())\n",
    "#expiry = expiry_dates[0]\n",
    "#expiry = '2021-02-19:9'\n",
    "#print(f\"Expiry Date: {expiry}\")\n",
    "#pprint(expiry_dates)\n",
    "import pandas as pd\n",
    "#strike_prices = list(options['callExpDateMap'][expiry].keys())\n",
    "#strike = strike_prices[0]\n",
    "#strike = '70.0'\n",
    "#print(f\"Strike Price: {strike}\")\n",
    "#pprint(strike_prices)\n",
    "\n",
    "#pprint(options['callExpDateMap'][expiry][strike])\n",
    "#options = td_client.optionsDF('BAX')\n",
    "options = td_client.optionsDF('CTXS')\n",
    "\n",
    "df = options[['symbol','delta','expirationDate']]\n",
    "#expiryDate = \n",
    "#options[(options['delta'] > 0.95) & ('expirationDate' == expiryDate)]\n",
    "df[(df['delta'] > 0.95)]\n",
    "\n",
    "options2 = td_client.optionsDF('BAX')\n",
    "df2 = options2[['symbol','delta','expirationDate']]\n",
    "df2\n",
    "#df2['delta'] > 0.95)\n",
    "#df[['symbol','delta','expirationDate']]\n",
    "#pd.DataFrame(options['symbol','delta','expirationDate'])\n"
   ]
  },
  {
   "cell_type": "markdown",
   "metadata": {},
   "source": [
    "## Getting Account Positions"
   ]
  },
  {
   "cell_type": "code",
   "execution_count": 11,
   "metadata": {},
   "outputs": [],
   "source": [
    "# PRIVATE account info\n",
    "# pprint(td_client.accounts(positions=True))"
   ]
  },
  {
   "cell_type": "markdown",
   "metadata": {},
   "source": [
    "## Placing an Order"
   ]
  },
  {
   "cell_type": "code",
   "execution_count": null,
   "metadata": {},
   "outputs": [],
   "source": []
  },
  {
   "cell_type": "markdown",
   "metadata": {},
   "source": [
    "### Creating order body for Place Order API"
   ]
  },
  {
   "cell_type": "code",
   "execution_count": 14,
   "metadata": {},
   "outputs": [],
   "source": [
    "from tdameritrade.orders.order_builder import build_buy_market_stock_order\n",
    "\n",
    "# Prints function docstring\n",
    "# build_buy_market_stock_order?"
   ]
  },
  {
   "cell_type": "code",
   "execution_count": 15,
   "metadata": {},
   "outputs": [],
   "source": [
    "symbol = \"HUSA\"  # Cheap stock for example\n",
    "quantity = 1\n",
    "order = build_buy_market_stock_order(symbol, quantity)"
   ]
  },
  {
   "cell_type": "code",
   "execution_count": 16,
   "metadata": {
    "tags": []
   },
   "outputs": [
    {
     "name": "stdout",
     "output_type": "stream",
     "text": [
      "{'duration': 'DAY',\n",
      " 'orderLegCollection': [{'instruction': 'BUY',\n",
      "                         'instrument': {'assetType': 'EQUITY',\n",
      "                                        'symbol': 'HUSA'},\n",
      "                         'quantity': 1}],\n",
      " 'orderStrategyType': 'SINGLE',\n",
      " 'orderType': 'MARKET',\n",
      " 'session': 'NORMAL'}\n"
     ]
    }
   ],
   "source": [
    "pprint(order.asdict())"
   ]
  },
  {
   "cell_type": "markdown",
   "metadata": {},
   "source": [
    "### Submitting Order"
   ]
  },
  {
   "cell_type": "code",
   "execution_count": 18,
   "metadata": {},
   "outputs": [],
   "source": [
    "# Without this, it fails with a 415.\n",
    "# This may screw up other API calls, so it may have to be reset if you want to try other ones.\n",
    "td_client.session.headers = {\n",
    "    \"Content-Type\": \"application/json\"\n",
    "}"
   ]
  },
  {
   "cell_type": "code",
   "execution_count": 19,
   "metadata": {
    "collapsed": true,
    "jupyter": {
     "outputs_hidden": true
    }
   },
   "outputs": [
    {
     "ename": "ValidationError",
     "evalue": "-1: An unknown error occurred",
     "output_type": "error",
     "traceback": [
      "\u001b[0;31m---------------------------------------------------------------------------\u001b[0m",
      "\u001b[0;31mValidationError\u001b[0m                           Traceback (most recent call last)",
      "\u001b[0;32m<ipython-input-19-501b4914af42>\u001b[0m in \u001b[0;36m<module>\u001b[0;34m\u001b[0m\n\u001b[1;32m      3\u001b[0m \u001b[0;34m\u001b[0m\u001b[0m\n\u001b[1;32m      4\u001b[0m \u001b[0;32mtry\u001b[0m\u001b[0;34m:\u001b[0m\u001b[0;34m\u001b[0m\u001b[0;34m\u001b[0m\u001b[0m\n\u001b[0;32m----> 5\u001b[0;31m     \u001b[0mresponse\u001b[0m \u001b[0;34m=\u001b[0m \u001b[0mtd_client\u001b[0m\u001b[0;34m.\u001b[0m\u001b[0mplaceOrder\u001b[0m\u001b[0;34m(\u001b[0m\u001b[0maccount_id\u001b[0m\u001b[0;34m,\u001b[0m \u001b[0morder\u001b[0m\u001b[0;34m.\u001b[0m\u001b[0mjson\u001b[0m\u001b[0;34m(\u001b[0m\u001b[0;34m)\u001b[0m\u001b[0;34m)\u001b[0m\u001b[0;34m\u001b[0m\u001b[0;34m\u001b[0m\u001b[0m\n\u001b[0m\u001b[1;32m      6\u001b[0m     \u001b[0mpprint\u001b[0m\u001b[0;34m(\u001b[0m\u001b[0mresponse\u001b[0m\u001b[0;34m)\u001b[0m\u001b[0;34m\u001b[0m\u001b[0;34m\u001b[0m\u001b[0m\n\u001b[1;32m      7\u001b[0m \u001b[0;32mexcept\u001b[0m \u001b[0mjson\u001b[0m\u001b[0;34m.\u001b[0m\u001b[0mdecoder\u001b[0m\u001b[0;34m.\u001b[0m\u001b[0mJSONDecodeError\u001b[0m \u001b[0;32mas\u001b[0m \u001b[0merr\u001b[0m\u001b[0;34m:\u001b[0m\u001b[0;34m\u001b[0m\u001b[0;34m\u001b[0m\u001b[0m\n",
      "\u001b[0;32m~/Projects/tdameritrade/tdameritrade/client.py\u001b[0m in \u001b[0;36mplaceOrder\u001b[0;34m(self, accountId, order)\u001b[0m\n\u001b[1;32m    637\u001b[0m             \u001b[0morder\u001b[0m \u001b[0;34m(\u001b[0m\u001b[0mJSON\u001b[0m\u001b[0;34m)\u001b[0m\u001b[0;34m:\u001b[0m \u001b[0morder\u001b[0m \u001b[0minstance\u001b[0m \u001b[0mto\u001b[0m \u001b[0mplace\u001b[0m\u001b[0;34m\u001b[0m\u001b[0;34m\u001b[0m\u001b[0m\n\u001b[1;32m    638\u001b[0m         \"\"\"\n\u001b[0;32m--> 639\u001b[0;31m         return self._request(\n\u001b[0m\u001b[1;32m    640\u001b[0m             \u001b[0mPLACE_ORDER\u001b[0m\u001b[0;34m.\u001b[0m\u001b[0mformat\u001b[0m\u001b[0;34m(\u001b[0m\u001b[0maccountId\u001b[0m\u001b[0;34m=\u001b[0m\u001b[0maccountId\u001b[0m\u001b[0;34m)\u001b[0m\u001b[0;34m,\u001b[0m \u001b[0mmethod\u001b[0m\u001b[0;34m=\u001b[0m\u001b[0;34m\"POST\"\u001b[0m\u001b[0;34m,\u001b[0m \u001b[0mjson\u001b[0m\u001b[0;34m=\u001b[0m\u001b[0morder\u001b[0m\u001b[0;34m\u001b[0m\u001b[0;34m\u001b[0m\u001b[0m\n\u001b[1;32m    641\u001b[0m         )\n",
      "\u001b[0;32m~/Projects/tdameritrade/tdameritrade/client.py\u001b[0m in \u001b[0;36m_request\u001b[0;34m(self, url, method, params, *args, **kwargs)\u001b[0m\n\u001b[1;32m     95\u001b[0m         \u001b[0mresp\u001b[0m \u001b[0;34m=\u001b[0m \u001b[0mself\u001b[0m\u001b[0;34m.\u001b[0m\u001b[0msession\u001b[0m\u001b[0;34m.\u001b[0m\u001b[0mrequest\u001b[0m\u001b[0;34m(\u001b[0m\u001b[0mmethod\u001b[0m\u001b[0;34m,\u001b[0m \u001b[0murl\u001b[0m\u001b[0;34m,\u001b[0m \u001b[0mparams\u001b[0m\u001b[0;34m=\u001b[0m\u001b[0mparams\u001b[0m\u001b[0;34m,\u001b[0m \u001b[0;34m*\u001b[0m\u001b[0margs\u001b[0m\u001b[0;34m,\u001b[0m \u001b[0;34m**\u001b[0m\u001b[0mkwargs\u001b[0m\u001b[0;34m)\u001b[0m\u001b[0;34m\u001b[0m\u001b[0;34m\u001b[0m\u001b[0m\n\u001b[1;32m     96\u001b[0m         \u001b[0;32mif\u001b[0m \u001b[0;32mnot\u001b[0m \u001b[0mresponse_is_valid\u001b[0m\u001b[0;34m(\u001b[0m\u001b[0mresp\u001b[0m\u001b[0;34m)\u001b[0m\u001b[0;34m:\u001b[0m\u001b[0;34m\u001b[0m\u001b[0;34m\u001b[0m\u001b[0m\n\u001b[0;32m---> 97\u001b[0;31m             \u001b[0mhandle_error_response\u001b[0m\u001b[0;34m(\u001b[0m\u001b[0mresp\u001b[0m\u001b[0;34m)\u001b[0m\u001b[0;34m\u001b[0m\u001b[0;34m\u001b[0m\u001b[0m\n\u001b[0m\u001b[1;32m     98\u001b[0m         \u001b[0;32mreturn\u001b[0m \u001b[0mresp\u001b[0m\u001b[0;34m\u001b[0m\u001b[0;34m\u001b[0m\u001b[0m\n\u001b[1;32m     99\u001b[0m \u001b[0;34m\u001b[0m\u001b[0m\n",
      "\u001b[0;32m~/Projects/tdameritrade/tdameritrade/exceptions.py\u001b[0m in \u001b[0;36mhandle_error_response\u001b[0;34m(resp)\u001b[0m\n\u001b[1;32m      9\u001b[0m     }\n\u001b[1;32m     10\u001b[0m \u001b[0;34m\u001b[0m\u001b[0m\n\u001b[0;32m---> 11\u001b[0;31m     \u001b[0;32mraise\u001b[0m \u001b[0mcodes\u001b[0m\u001b[0;34m[\u001b[0m\u001b[0mresp\u001b[0m\u001b[0;34m.\u001b[0m\u001b[0mstatus_code\u001b[0m\u001b[0;34m]\u001b[0m\u001b[0;34m(\u001b[0m\u001b[0;34m)\u001b[0m\u001b[0;34m\u001b[0m\u001b[0;34m\u001b[0m\u001b[0m\n\u001b[0m\u001b[1;32m     12\u001b[0m \u001b[0;34m\u001b[0m\u001b[0m\n\u001b[1;32m     13\u001b[0m \u001b[0;34m\u001b[0m\u001b[0m\n",
      "\u001b[0;31mValidationError\u001b[0m: -1: An unknown error occurred"
     ]
    }
   ],
   "source": [
    "# This will fail to return because the place order API does not return a JSONserializable response on success\n",
    "# BUT the order will still go through.  Checked on the site.  You can also check your active orders below.\n",
    "\n",
    "try:\n",
    "    response = td_client.placeOrder(account_id, order.json())\n",
    "    pprint(response)\n",
    "except json.decoder.JSONDecodeError as err:\n",
    "    print(err)\n"
   ]
  },
  {
   "cell_type": "markdown",
   "metadata": {},
   "source": [
    "### Getting out Orders"
   ]
  },
  {
   "cell_type": "code",
   "execution_count": 12,
   "metadata": {},
   "outputs": [],
   "source": [
    "# Load account info to get account ID for get orders\n",
    "#td_client.accounts()\n",
    "\n",
    "#account_id = td_client.accountIds[0]"
   ]
  },
  {
   "cell_type": "code",
   "execution_count": 13,
   "metadata": {
    "tags": []
   },
   "outputs": [
    {
     "name": "stdout",
     "output_type": "stream",
     "text": [
      "[]\n"
     ]
    }
   ],
   "source": [
    "# Print out orders\n",
    "my_orders = td_client.orders(accountId=account_id)\n",
    "pprint(my_orders)"
   ]
  },
  {
   "cell_type": "markdown",
   "metadata": {},
   "source": [
    "### Deleting Orders"
   ]
  },
  {
   "cell_type": "code",
   "execution_count": 19,
   "metadata": {},
   "outputs": [],
   "source": [
    "# This deletes all WORKING orders\n",
    "\n",
    "# for order in my_orders:\n",
    "#     if order[\"status\"] == Status.WORKING and order[\"cancelable\"]:\n",
    "#         response = td_client.cancelOrder(account_id, order[\"orderId\"])\n",
    "#         pprint(response)"
   ]
  }
 ],
 "metadata": {
  "kernelspec": {
   "display_name": "mytdameritrade",
   "language": "python",
   "name": "mytdameritrade"
  },
  "language_info": {
   "codemirror_mode": {
    "name": "ipython",
    "version": 3
   },
   "file_extension": ".py",
   "mimetype": "text/x-python",
   "name": "python",
   "nbconvert_exporter": "python",
   "pygments_lexer": "ipython3",
   "version": "3.9.1"
  }
 },
 "nbformat": 4,
 "nbformat_minor": 4
}
