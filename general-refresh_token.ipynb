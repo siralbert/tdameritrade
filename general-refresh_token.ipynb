{
 "cells": [
  {
   "cell_type": "markdown",
   "metadata": {},
   "source": [
    "# General Usage"
   ]
  },
  {
   "cell_type": "code",
   "execution_count": 2,
   "metadata": {},
   "outputs": [],
   "source": [
    "from pprint import pprint\n",
    "import tdameritrade as td\n",
    "import os"
   ]
  },
  {
   "cell_type": "markdown",
   "metadata": {},
   "source": [
    "## Authentication\n",
    "\n"
   ]
  },
  {
   "cell_type": "code",
   "execution_count": 4,
   "metadata": {},
   "outputs": [],
   "source": [
    "# get refreshtoken from file\n",
    "refreshtoken = open(os.path.expanduser('~/.r_token'), 'r')\n",
    "line = refreshtoken.readline()\n",
    "refreshtoken.close()\n",
    "\n",
    "client_id = os.getenv('TDAMERITRADE_CLIENT_ID')\n",
    "\n",
    "# authenticate and initialize TD Client\n",
    "td_client = td.TDClient(client_id=client_id, refresh_token=line)\n",
    "\n"
   ]
  },
  {
   "cell_type": "markdown",
   "metadata": {},
   "source": [
    "## API Examples"
   ]
  },
  {
   "cell_type": "code",
   "execution_count": 5,
   "metadata": {
    "tags": []
   },
   "outputs": [],
   "source": [
    "# shows private account info\n",
    "# pprint(td_client.accounts())"
   ]
  },
  {
   "cell_type": "markdown",
   "metadata": {},
   "source": [
    "### Getting Symbol Data"
   ]
  },
  {
   "cell_type": "code",
   "execution_count": 6,
   "metadata": {
    "tags": []
   },
   "outputs": [
    {
     "name": "stdout",
     "output_type": "stream",
     "text": [
      "{'AAPL': {'assetType': 'EQUITY',\n",
      "          'cusip': '037833100',\n",
      "          'description': 'Apple Inc. - Common Stock',\n",
      "          'exchange': 'NASDAQ',\n",
      "          'symbol': 'AAPL'}}\n"
     ]
    }
   ],
   "source": [
    "pprint(td_client.search('aapl'))"
   ]
  },
  {
   "cell_type": "code",
   "execution_count": 7,
   "metadata": {
    "tags": []
   },
   "outputs": [
    {
     "name": "stdout",
     "output_type": "stream",
     "text": [
      "{'AAPL': {'52WkHigh': 145.09,\n",
      "          '52WkLow': 53.1525,\n",
      "          'askId': 'K',\n",
      "          'askPrice': 136.43,\n",
      "          'askSize': 100,\n",
      "          'assetMainType': 'EQUITY',\n",
      "          'assetType': 'EQUITY',\n",
      "          'bidId': 'K',\n",
      "          'bidPrice': 136.4,\n",
      "          'bidSize': 100,\n",
      "          'bidTick': ' ',\n",
      "          'closePrice': 133.94,\n",
      "          'cusip': '037833100',\n",
      "          'delayed': False,\n",
      "          'description': 'Apple Inc. - Common Stock',\n",
      "          'digits': 4,\n",
      "          'divAmount': 0.82,\n",
      "          'divDate': '2021-02-05 00:00:00.000',\n",
      "          'divYield': 0.61,\n",
      "          'exchange': 'q',\n",
      "          'exchangeName': 'NASD',\n",
      "          'highPrice': 0.0,\n",
      "          'lastId': 'P',\n",
      "          'lastPrice': 136.4,\n",
      "          'lastSize': 0,\n",
      "          'lowPrice': 0.0,\n",
      "          'marginable': True,\n",
      "          'mark': 136.4,\n",
      "          'markChangeInDouble': 2.46,\n",
      "          'markPercentChangeInDouble': 1.8366,\n",
      "          'nAV': 0.0,\n",
      "          'netChange': 2.46,\n",
      "          'netPercentChangeInDouble': 1.8366,\n",
      "          'openPrice': 0.0,\n",
      "          'peRatio': 36.4927,\n",
      "          'quoteTimeInLong': 1612442522883,\n",
      "          'regularMarketLastPrice': 133.94,\n",
      "          'regularMarketLastSize': 56055,\n",
      "          'regularMarketNetChange': 0.0,\n",
      "          'regularMarketPercentChangeInDouble': 0.0,\n",
      "          'regularMarketTradeTimeInLong': 1612386000959,\n",
      "          'securityStatus': 'Normal',\n",
      "          'shortable': True,\n",
      "          'symbol': 'AAPL',\n",
      "          'totalVolume': 668705,\n",
      "          'tradeTimeInLong': 1612442523400,\n",
      "          'volatility': 0.0155}}\n"
     ]
    }
   ],
   "source": [
    "pprint(td_client.quote('aapl'))"
   ]
  },
  {
   "cell_type": "code",
   "execution_count": 8,
   "metadata": {
    "tags": []
   },
   "outputs": [
    {
     "name": "stdout",
     "output_type": "stream",
     "text": [
      "[{'assetType': 'EQUITY',\n",
      "  'cusip': '037833100',\n",
      "  'description': 'Apple Inc. - Common Stock',\n",
      "  'exchange': 'NASDAQ',\n",
      "  'symbol': 'AAPL'}]\n"
     ]
    }
   ],
   "source": [
    "pprint(td_client.instrument('037833100'))"
   ]
  },
  {
   "cell_type": "code",
   "execution_count": 9,
   "metadata": {},
   "outputs": [
    {
     "data": {
      "text/html": [
       "<div>\n",
       "<style scoped>\n",
       "    .dataframe tbody tr th:only-of-type {\n",
       "        vertical-align: middle;\n",
       "    }\n",
       "\n",
       "    .dataframe tbody tr th {\n",
       "        vertical-align: top;\n",
       "    }\n",
       "\n",
       "    .dataframe thead th {\n",
       "        text-align: right;\n",
       "    }\n",
       "</style>\n",
       "<table border=\"1\" class=\"dataframe\">\n",
       "  <thead>\n",
       "    <tr style=\"text-align: right;\">\n",
       "      <th></th>\n",
       "      <th>open</th>\n",
       "      <th>high</th>\n",
       "      <th>low</th>\n",
       "      <th>close</th>\n",
       "      <th>volume</th>\n",
       "      <th>datetime</th>\n",
       "    </tr>\n",
       "  </thead>\n",
       "  <tbody>\n",
       "    <tr>\n",
       "      <th>0</th>\n",
       "      <td>133.68</td>\n",
       "      <td>133.75</td>\n",
       "      <td>133.57</td>\n",
       "      <td>133.75</td>\n",
       "      <td>16808</td>\n",
       "      <td>1611230400000</td>\n",
       "    </tr>\n",
       "    <tr>\n",
       "      <th>1</th>\n",
       "      <td>133.73</td>\n",
       "      <td>133.83</td>\n",
       "      <td>133.73</td>\n",
       "      <td>133.80</td>\n",
       "      <td>26322</td>\n",
       "      <td>1611230460000</td>\n",
       "    </tr>\n",
       "    <tr>\n",
       "      <th>2</th>\n",
       "      <td>133.80</td>\n",
       "      <td>133.86</td>\n",
       "      <td>133.76</td>\n",
       "      <td>133.82</td>\n",
       "      <td>13261</td>\n",
       "      <td>1611230520000</td>\n",
       "    </tr>\n",
       "    <tr>\n",
       "      <th>3</th>\n",
       "      <td>133.85</td>\n",
       "      <td>133.98</td>\n",
       "      <td>133.85</td>\n",
       "      <td>133.95</td>\n",
       "      <td>27051</td>\n",
       "      <td>1611230580000</td>\n",
       "    </tr>\n",
       "    <tr>\n",
       "      <th>4</th>\n",
       "      <td>133.95</td>\n",
       "      <td>133.98</td>\n",
       "      <td>133.90</td>\n",
       "      <td>133.90</td>\n",
       "      <td>14793</td>\n",
       "      <td>1611230640000</td>\n",
       "    </tr>\n",
       "  </tbody>\n",
       "</table>\n",
       "</div>"
      ],
      "text/plain": [
       "     open    high     low   close  volume       datetime\n",
       "0  133.68  133.75  133.57  133.75   16808  1611230400000\n",
       "1  133.73  133.83  133.73  133.80   26322  1611230460000\n",
       "2  133.80  133.86  133.76  133.82   13261  1611230520000\n",
       "3  133.85  133.98  133.85  133.95   27051  1611230580000\n",
       "4  133.95  133.98  133.90  133.90   14793  1611230640000"
      ]
     },
     "execution_count": 9,
     "metadata": {},
     "output_type": "execute_result"
    }
   ],
   "source": [
    "import pandas as pd\n",
    "pd.DataFrame(td_client.history('AAPL')['candles']).head()"
   ]
  },
  {
   "cell_type": "markdown",
   "metadata": {},
   "source": [
    "### Getting Option Data"
   ]
  },
  {
   "cell_type": "code",
   "execution_count": 10,
   "metadata": {},
   "outputs": [],
   "source": [
    "options = td_client.options('AAPL')"
   ]
  },
  {
   "cell_type": "code",
   "execution_count": 11,
   "metadata": {
    "tags": []
   },
   "outputs": [
    {
     "name": "stdout",
     "output_type": "stream",
     "text": [
      "Expiry Date: 2021-02-05:1\n",
      "Strike Price: 65.0\n",
      "[{'ask': 0.01,\n",
      "  'askSize': 420,\n",
      "  'bid': 0.0,\n",
      "  'bidAskSize': '0X420',\n",
      "  'bidSize': 0,\n",
      "  'closePrice': 0.0,\n",
      "  'daysToExpiration': 1,\n",
      "  'deliverableNote': '',\n",
      "  'delta': 0.0,\n",
      "  'description': 'AAPL Feb 5 2021 65 Put (Weekly)',\n",
      "  'exchangeName': 'OPR',\n",
      "  'expirationDate': 1612558800000,\n",
      "  'expirationType': 'S',\n",
      "  'gamma': 0.0,\n",
      "  'highPrice': 0.0,\n",
      "  'inTheMoney': False,\n",
      "  'isIndexOption': None,\n",
      "  'last': 0.01,\n",
      "  'lastSize': 0,\n",
      "  'lastTradingDay': 1612573200000,\n",
      "  'lowPrice': 0.0,\n",
      "  'mark': 0.01,\n",
      "  'markChange': 0.0,\n",
      "  'markPercentChange': 4900.0,\n",
      "  'mini': False,\n",
      "  'multiplier': 100.0,\n",
      "  'netChange': 0.01,\n",
      "  'nonStandard': False,\n",
      "  'openInterest': 2510,\n",
      "  'openPrice': 0.0,\n",
      "  'optionDeliverablesList': None,\n",
      "  'percentChange': 9900.0,\n",
      "  'putCall': 'PUT',\n",
      "  'quoteTimeInLong': 1612385999605,\n",
      "  'rho': 0.0,\n",
      "  'settlementType': ' ',\n",
      "  'strikePrice': 65.0,\n",
      "  'symbol': 'AAPL_020521P65',\n",
      "  'theoreticalOptionValue': 0.0,\n",
      "  'theoreticalVolatility': 29.0,\n",
      "  'theta': 0.0,\n",
      "  'timeValue': 0.01,\n",
      "  'totalVolume': 0,\n",
      "  'tradeDate': None,\n",
      "  'tradeTimeInLong': 1612366572899,\n",
      "  'vega': 0.0,\n",
      "  'volatility': 208.667}]\n"
     ]
    }
   ],
   "source": [
    "expiry_dates = list(options['putExpDateMap'].keys())\n",
    "expiry = expiry_dates[0]\n",
    "print(f\"Expiry Date: {expiry}\")\n",
    "\n",
    "strike_prices = list(options['putExpDateMap'][expiry].keys())\n",
    "strike = strike_prices[0]\n",
    "print(f\"Strike Price: {strike}\")\n",
    "\n",
    "pprint(options['putExpDateMap'][expiry][strike])"
   ]
  },
  {
   "cell_type": "markdown",
   "metadata": {},
   "source": [
    "## Placing an Order"
   ]
  },
  {
   "cell_type": "markdown",
   "metadata": {},
   "source": [
    "### Creating order body for Place Order API"
   ]
  },
  {
   "cell_type": "code",
   "execution_count": 7,
   "metadata": {},
   "outputs": [],
   "source": [
    "from tdameritrade.orders.order_builder import build_buy_market_stock_order\n",
    "\n",
    "# Prints function docstring\n",
    "# build_buy_market_stock_order?"
   ]
  },
  {
   "cell_type": "code",
   "execution_count": 8,
   "metadata": {},
   "outputs": [],
   "source": [
    "symbol = \"HUSA\"  # Cheap stock for example\n",
    "quantity = 1\n",
    "order = build_buy_market_stock_order(symbol, quantity)"
   ]
  },
  {
   "cell_type": "code",
   "execution_count": 9,
   "metadata": {
    "tags": []
   },
   "outputs": [
    {
     "name": "stdout",
     "output_type": "stream",
     "text": [
      "{'duration': 'DAY',\n",
      " 'orderLegCollection': [{'instruction': 'BUY',\n",
      "                         'instrument': {'assetType': 'EQUITY',\n",
      "                                        'symbol': 'HUSA'},\n",
      "                         'quantity': 1}],\n",
      " 'orderStrategyType': 'SINGLE',\n",
      " 'orderType': 'MARKET',\n",
      " 'session': 'NORMAL'}\n"
     ]
    }
   ],
   "source": [
    "pprint(order.asdict())"
   ]
  },
  {
   "cell_type": "markdown",
   "metadata": {},
   "source": [
    "### Submitting Order"
   ]
  },
  {
   "cell_type": "code",
   "execution_count": 10,
   "metadata": {},
   "outputs": [],
   "source": [
    "# Without this, it fails with a 415.\n",
    "# This may screw up other API calls, so it may have to be reset if you want to try other ones.\n",
    "td_client.session.headers = {\n",
    "    \"Content-Type\": \"application/json\"\n",
    "}"
   ]
  },
  {
   "cell_type": "code",
   "execution_count": 11,
   "metadata": {},
   "outputs": [],
   "source": [
    "# This will fail to return because the place order API does not return a JSONserializable response on success\n",
    "# BUT the order will still go through.  Checked on the site.  You can also check your active orders below.\n",
    "\n",
    "# try:\n",
    "#     response = td_client.placeOrder(account_id, order.json())\n",
    "#     pprint(response)\n",
    "# except json.decoder.JSONDecodeError as err:\n",
    "#     print(err)\n"
   ]
  },
  {
   "cell_type": "markdown",
   "metadata": {},
   "source": [
    "### Getting out Orders"
   ]
  },
  {
   "cell_type": "code",
   "execution_count": 12,
   "metadata": {},
   "outputs": [],
   "source": [
    "# Load account info to get account ID for get orders\n",
    "td_client.accounts()\n",
    "\n",
    "account_id = td_client.accountIds[0]"
   ]
  },
  {
   "cell_type": "code",
   "execution_count": 13,
   "metadata": {
    "tags": []
   },
   "outputs": [
    {
     "name": "stdout",
     "output_type": "stream",
     "text": [
      "[]\n"
     ]
    }
   ],
   "source": [
    "# Print out orders\n",
    "my_orders = td_client.orders(accountId=account_id)\n",
    "pprint(my_orders)"
   ]
  },
  {
   "cell_type": "markdown",
   "metadata": {},
   "source": [
    "### Deleting Orders"
   ]
  },
  {
   "cell_type": "code",
   "execution_count": 19,
   "metadata": {},
   "outputs": [],
   "source": [
    "# This deletes all WORKING orders\n",
    "\n",
    "# for order in my_orders:\n",
    "#     if order[\"status\"] == Status.WORKING and order[\"cancelable\"]:\n",
    "#         response = td_client.cancelOrder(account_id, order[\"orderId\"])\n",
    "#         pprint(response)"
   ]
  }
 ],
 "metadata": {
  "kernelspec": {
   "display_name": "mytdameritrade",
   "language": "python",
   "name": "mytdameritrade"
  },
  "language_info": {
   "codemirror_mode": {
    "name": "ipython",
    "version": 3
   },
   "file_extension": ".py",
   "mimetype": "text/x-python",
   "name": "python",
   "nbconvert_exporter": "python",
   "pygments_lexer": "ipython3",
   "version": "3.9.1"
  }
 },
 "nbformat": 4,
 "nbformat_minor": 4
}
