{
 "cells": [
  {
   "cell_type": "markdown",
   "metadata": {},
   "source": [
    "# General Usage"
   ]
  },
  {
   "cell_type": "code",
   "execution_count": 1,
   "metadata": {},
   "outputs": [],
   "source": [
    "from pprint import pprint\n",
    "import tdameritrade as td\n",
    "import os\n",
    "import json"
   ]
  },
  {
   "cell_type": "markdown",
   "metadata": {},
   "source": [
    "## Authentication\n",
    "\n"
   ]
  },
  {
   "cell_type": "code",
   "execution_count": 2,
   "metadata": {},
   "outputs": [],
   "source": [
    "# get refreshtoken from file\n",
    "refreshtoken = open(os.path.expanduser('~/.r_token'), 'r')\n",
    "line = refreshtoken.readline()\n",
    "refreshtoken.close()\n",
    "\n",
    "client_id = os.getenv('TDAMERITRADE_CLIENT_ID')\n",
    "account_id = os.getenv('TDAMERITRADE_ACCOUNT_ID')\n",
    "\n",
    "# authenticate and initialize TD Client\n",
    "td_client = td.TDClient(client_id=client_id, refresh_token=line)\n",
    "\n"
   ]
  },
  {
   "cell_type": "markdown",
   "metadata": {},
   "source": [
    "## API Examples"
   ]
  },
  {
   "cell_type": "code",
   "execution_count": 3,
   "metadata": {
    "tags": []
   },
   "outputs": [],
   "source": [
    "# shows private account info\n",
    "#pprint(td_client.accounts())"
   ]
  },
  {
   "cell_type": "markdown",
   "metadata": {},
   "source": [
    "### Getting Symbol Data"
   ]
  },
  {
   "cell_type": "code",
   "execution_count": 4,
   "metadata": {
    "tags": []
   },
   "outputs": [
    {
     "name": "stdout",
     "output_type": "stream",
     "text": [
      "{'AAPL': {'assetType': 'EQUITY',\n",
      "          'cusip': '037833100',\n",
      "          'description': 'Apple Inc. - Common Stock',\n",
      "          'exchange': 'NASDAQ',\n",
      "          'symbol': 'AAPL'}}\n"
     ]
    }
   ],
   "source": [
    "pprint(td_client.search('aapl'))"
   ]
  },
  {
   "cell_type": "code",
   "execution_count": 30,
   "metadata": {
    "tags": []
   },
   "outputs": [
    {
     "name": "stdout",
     "output_type": "stream",
     "text": [
      "{'GSX': {'52WkHigh': 149.05,\n",
      "         '52WkLow': 27.06,\n",
      "         'askId': 'N',\n",
      "         'askPrice': 92.8,\n",
      "         'askSize': 200,\n",
      "         'assetMainType': 'EQUITY',\n",
      "         'assetSubType': 'ADR',\n",
      "         'assetType': 'EQUITY',\n",
      "         'bidId': 'T',\n",
      "         'bidPrice': 92.67,\n",
      "         'bidSize': 200,\n",
      "         'bidTick': ' ',\n",
      "         'closePrice': 91.33,\n",
      "         'cusip': '36257Y109',\n",
      "         'delayed': False,\n",
      "         'description': 'GSX Techedu Inc. American Depositary Shares, three of '\n",
      "                        'which representing two Cla',\n",
      "         'digits': 2,\n",
      "         'divAmount': 0.0,\n",
      "         'divDate': '',\n",
      "         'divYield': 0.0,\n",
      "         'exchange': 'n',\n",
      "         'exchangeName': 'NYSE',\n",
      "         'highPrice': 93.98,\n",
      "         'lastId': 'V',\n",
      "         'lastPrice': 92.735,\n",
      "         'lastSize': 100,\n",
      "         'lowPrice': 88.65,\n",
      "         'marginable': True,\n",
      "         'mark': 92.735,\n",
      "         'markChangeInDouble': 1.405,\n",
      "         'markPercentChangeInDouble': 1.5384,\n",
      "         'nAV': 0.0,\n",
      "         'netChange': 1.405,\n",
      "         'netPercentChangeInDouble': 1.5384,\n",
      "         'openPrice': 92.04,\n",
      "         'peRatio': 0.0,\n",
      "         'quoteTimeInLong': 1612974516451,\n",
      "         'regularMarketLastPrice': 92.735,\n",
      "         'regularMarketLastSize': 1,\n",
      "         'regularMarketNetChange': 1.405,\n",
      "         'regularMarketPercentChangeInDouble': 1.5384,\n",
      "         'regularMarketTradeTimeInLong': 1612974520342,\n",
      "         'securityStatus': 'Normal',\n",
      "         'shortable': True,\n",
      "         'symbol': 'GSX',\n",
      "         'totalVolume': 964168,\n",
      "         'tradeTimeInLong': 1612974520342,\n",
      "         'volatility': 0.0798}}\n"
     ]
    }
   ],
   "source": [
    "pprint(td_client.quote('gsx'))"
   ]
  },
  {
   "cell_type": "code",
   "execution_count": 29,
   "metadata": {
    "tags": []
   },
   "outputs": [
    {
     "name": "stdout",
     "output_type": "stream",
     "text": [
      "[{'assetType': 'EQUITY',\n",
      "  'cusip': '037833100',\n",
      "  'description': 'Apple Inc. - Common Stock',\n",
      "  'exchange': 'NASDAQ',\n",
      "  'symbol': 'AAPL'}]\n"
     ]
    }
   ],
   "source": [
    "pprint(td_client.instrument('037833100'))"
   ]
  },
  {
   "cell_type": "code",
   "execution_count": 7,
   "metadata": {},
   "outputs": [
    {
     "data": {
      "text/html": [
       "<div>\n",
       "<style scoped>\n",
       "    .dataframe tbody tr th:only-of-type {\n",
       "        vertical-align: middle;\n",
       "    }\n",
       "\n",
       "    .dataframe tbody tr th {\n",
       "        vertical-align: top;\n",
       "    }\n",
       "\n",
       "    .dataframe thead th {\n",
       "        text-align: right;\n",
       "    }\n",
       "</style>\n",
       "<table border=\"1\" class=\"dataframe\">\n",
       "  <thead>\n",
       "    <tr style=\"text-align: right;\">\n",
       "      <th></th>\n",
       "      <th>open</th>\n",
       "      <th>high</th>\n",
       "      <th>low</th>\n",
       "      <th>close</th>\n",
       "      <th>volume</th>\n",
       "      <th>datetime</th>\n",
       "    </tr>\n",
       "  </thead>\n",
       "  <tbody>\n",
       "    <tr>\n",
       "      <th>0</th>\n",
       "      <td>143.37</td>\n",
       "      <td>144.50</td>\n",
       "      <td>143.27</td>\n",
       "      <td>144.12</td>\n",
       "      <td>73774</td>\n",
       "      <td>1611748800000</td>\n",
       "    </tr>\n",
       "    <tr>\n",
       "      <th>1</th>\n",
       "      <td>144.06</td>\n",
       "      <td>144.36</td>\n",
       "      <td>144.06</td>\n",
       "      <td>144.30</td>\n",
       "      <td>31926</td>\n",
       "      <td>1611748860000</td>\n",
       "    </tr>\n",
       "    <tr>\n",
       "      <th>2</th>\n",
       "      <td>144.29</td>\n",
       "      <td>144.50</td>\n",
       "      <td>144.21</td>\n",
       "      <td>144.50</td>\n",
       "      <td>17191</td>\n",
       "      <td>1611748920000</td>\n",
       "    </tr>\n",
       "    <tr>\n",
       "      <th>3</th>\n",
       "      <td>144.50</td>\n",
       "      <td>144.52</td>\n",
       "      <td>144.20</td>\n",
       "      <td>144.29</td>\n",
       "      <td>16861</td>\n",
       "      <td>1611748980000</td>\n",
       "    </tr>\n",
       "    <tr>\n",
       "      <th>4</th>\n",
       "      <td>144.25</td>\n",
       "      <td>144.40</td>\n",
       "      <td>144.23</td>\n",
       "      <td>144.31</td>\n",
       "      <td>18081</td>\n",
       "      <td>1611749040000</td>\n",
       "    </tr>\n",
       "  </tbody>\n",
       "</table>\n",
       "</div>"
      ],
      "text/plain": [
       "     open    high     low   close  volume       datetime\n",
       "0  143.37  144.50  143.27  144.12   73774  1611748800000\n",
       "1  144.06  144.36  144.06  144.30   31926  1611748860000\n",
       "2  144.29  144.50  144.21  144.50   17191  1611748920000\n",
       "3  144.50  144.52  144.20  144.29   16861  1611748980000\n",
       "4  144.25  144.40  144.23  144.31   18081  1611749040000"
      ]
     },
     "execution_count": 7,
     "metadata": {},
     "output_type": "execute_result"
    }
   ],
   "source": [
    "import pandas as pd\n",
    "pd.DataFrame(td_client.history('AAPL')['candles']).head()"
   ]
  },
  {
   "cell_type": "markdown",
   "metadata": {},
   "source": [
    "### Getting Option Data"
   ]
  },
  {
   "cell_type": "code",
   "execution_count": 8,
   "metadata": {},
   "outputs": [],
   "source": [
    "options = td_client.options('GSX')"
   ]
  },
  {
   "cell_type": "code",
   "execution_count": 31,
   "metadata": {
    "tags": []
   },
   "outputs": [
    {
     "name": "stdout",
     "output_type": "stream",
     "text": [
      "[{'ask': 24.05,\n",
      "  'askSize': 12,\n",
      "  'bid': 23.1,\n",
      "  'bidAskSize': '2X12',\n",
      "  'bidSize': 2,\n",
      "  'closePrice': 22.44,\n",
      "  'daysToExpiration': 9,\n",
      "  'deliverableNote': '',\n",
      "  'delta': 0.921,\n",
      "  'description': 'GSX Feb 19 2021 70 Call',\n",
      "  'exchangeName': 'OPR',\n",
      "  'expirationDate': 1613768400000,\n",
      "  'expirationType': 'R',\n",
      "  'gamma': 0.007,\n",
      "  'highPrice': 24.3,\n",
      "  'inTheMoney': True,\n",
      "  'isIndexOption': None,\n",
      "  'last': 23.46,\n",
      "  'lastSize': 0,\n",
      "  'lastTradingDay': 1613782800000,\n",
      "  'lowPrice': 23.0,\n",
      "  'mark': 23.58,\n",
      "  'markChange': 1.13,\n",
      "  'markPercentChange': 5.04,\n",
      "  'mini': False,\n",
      "  'multiplier': 100.0,\n",
      "  'netChange': 1.02,\n",
      "  'nonStandard': False,\n",
      "  'openInterest': 10990,\n",
      "  'openPrice': 0.0,\n",
      "  'optionDeliverablesList': None,\n",
      "  'percentChange': 4.52,\n",
      "  'putCall': 'CALL',\n",
      "  'quoteTimeInLong': 1612974539576,\n",
      "  'rho': 0.016,\n",
      "  'settlementType': ' ',\n",
      "  'strikePrice': 70.0,\n",
      "  'symbol': 'GSX_021921C70',\n",
      "  'theoreticalOptionValue': 23.175,\n",
      "  'theoreticalVolatility': 29.0,\n",
      "  'theta': -0.123,\n",
      "  'timeValue': 0.79,\n",
      "  'totalVolume': 7,\n",
      "  'tradeDate': None,\n",
      "  'tradeTimeInLong': 1612972665150,\n",
      "  'vega': 0.022,\n",
      "  'volatility': 128.928}]\n"
     ]
    }
   ],
   "source": [
    "options = td_client.options('GSX')\n",
    "expiry_dates = list(options['callExpDateMap'].keys())\n",
    "#expiry = expiry_dates[0]\n",
    "expiry = '2021-02-19:9'\n",
    "#print(f\"Expiry Date: {expiry}\")\n",
    "#pprint(expiry_dates)\n",
    "\n",
    "strike_prices = list(options['callExpDateMap'][expiry].keys())\n",
    "#strike = strike_prices[0]\n",
    "strike = '70.0'\n",
    "#print(f\"Strike Price: {strike}\")\n",
    "#pprint(strike_prices)\n",
    "\n",
    "pprint(options['callExpDateMap'][expiry][strike])"
   ]
  },
  {
   "cell_type": "markdown",
   "metadata": {},
   "source": [
    "## Getting Account Positions"
   ]
  },
  {
   "cell_type": "code",
   "execution_count": 11,
   "metadata": {},
   "outputs": [],
   "source": [
    "# PRIVATE account info\n",
    "# pprint(td_client.accounts(positions=True))"
   ]
  },
  {
   "cell_type": "markdown",
   "metadata": {},
   "source": [
    "## Placing an Order"
   ]
  },
  {
   "cell_type": "code",
   "execution_count": null,
   "metadata": {},
   "outputs": [],
   "source": []
  },
  {
   "cell_type": "markdown",
   "metadata": {},
   "source": [
    "### Creating order body for Place Order API"
   ]
  },
  {
   "cell_type": "code",
   "execution_count": 14,
   "metadata": {},
   "outputs": [],
   "source": [
    "from tdameritrade.orders.order_builder import build_buy_market_stock_order\n",
    "\n",
    "# Prints function docstring\n",
    "# build_buy_market_stock_order?"
   ]
  },
  {
   "cell_type": "code",
   "execution_count": 15,
   "metadata": {},
   "outputs": [],
   "source": [
    "symbol = \"HUSA\"  # Cheap stock for example\n",
    "quantity = 1\n",
    "order = build_buy_market_stock_order(symbol, quantity)"
   ]
  },
  {
   "cell_type": "code",
   "execution_count": 16,
   "metadata": {
    "tags": []
   },
   "outputs": [
    {
     "name": "stdout",
     "output_type": "stream",
     "text": [
      "{'duration': 'DAY',\n",
      " 'orderLegCollection': [{'instruction': 'BUY',\n",
      "                         'instrument': {'assetType': 'EQUITY',\n",
      "                                        'symbol': 'HUSA'},\n",
      "                         'quantity': 1}],\n",
      " 'orderStrategyType': 'SINGLE',\n",
      " 'orderType': 'MARKET',\n",
      " 'session': 'NORMAL'}\n"
     ]
    }
   ],
   "source": [
    "pprint(order.asdict())"
   ]
  },
  {
   "cell_type": "markdown",
   "metadata": {},
   "source": [
    "### Submitting Order"
   ]
  },
  {
   "cell_type": "code",
   "execution_count": 18,
   "metadata": {},
   "outputs": [],
   "source": [
    "# Without this, it fails with a 415.\n",
    "# This may screw up other API calls, so it may have to be reset if you want to try other ones.\n",
    "td_client.session.headers = {\n",
    "    \"Content-Type\": \"application/json\"\n",
    "}"
   ]
  },
  {
   "cell_type": "code",
   "execution_count": 19,
   "metadata": {
    "collapsed": true,
    "jupyter": {
     "outputs_hidden": true
    }
   },
   "outputs": [
    {
     "ename": "ValidationError",
     "evalue": "-1: An unknown error occurred",
     "output_type": "error",
     "traceback": [
      "\u001b[0;31m---------------------------------------------------------------------------\u001b[0m",
      "\u001b[0;31mValidationError\u001b[0m                           Traceback (most recent call last)",
      "\u001b[0;32m<ipython-input-19-501b4914af42>\u001b[0m in \u001b[0;36m<module>\u001b[0;34m\u001b[0m\n\u001b[1;32m      3\u001b[0m \u001b[0;34m\u001b[0m\u001b[0m\n\u001b[1;32m      4\u001b[0m \u001b[0;32mtry\u001b[0m\u001b[0;34m:\u001b[0m\u001b[0;34m\u001b[0m\u001b[0;34m\u001b[0m\u001b[0m\n\u001b[0;32m----> 5\u001b[0;31m     \u001b[0mresponse\u001b[0m \u001b[0;34m=\u001b[0m \u001b[0mtd_client\u001b[0m\u001b[0;34m.\u001b[0m\u001b[0mplaceOrder\u001b[0m\u001b[0;34m(\u001b[0m\u001b[0maccount_id\u001b[0m\u001b[0;34m,\u001b[0m \u001b[0morder\u001b[0m\u001b[0;34m.\u001b[0m\u001b[0mjson\u001b[0m\u001b[0;34m(\u001b[0m\u001b[0;34m)\u001b[0m\u001b[0;34m)\u001b[0m\u001b[0;34m\u001b[0m\u001b[0;34m\u001b[0m\u001b[0m\n\u001b[0m\u001b[1;32m      6\u001b[0m     \u001b[0mpprint\u001b[0m\u001b[0;34m(\u001b[0m\u001b[0mresponse\u001b[0m\u001b[0;34m)\u001b[0m\u001b[0;34m\u001b[0m\u001b[0;34m\u001b[0m\u001b[0m\n\u001b[1;32m      7\u001b[0m \u001b[0;32mexcept\u001b[0m \u001b[0mjson\u001b[0m\u001b[0;34m.\u001b[0m\u001b[0mdecoder\u001b[0m\u001b[0;34m.\u001b[0m\u001b[0mJSONDecodeError\u001b[0m \u001b[0;32mas\u001b[0m \u001b[0merr\u001b[0m\u001b[0;34m:\u001b[0m\u001b[0;34m\u001b[0m\u001b[0;34m\u001b[0m\u001b[0m\n",
      "\u001b[0;32m~/Projects/tdameritrade/tdameritrade/client.py\u001b[0m in \u001b[0;36mplaceOrder\u001b[0;34m(self, accountId, order)\u001b[0m\n\u001b[1;32m    637\u001b[0m             \u001b[0morder\u001b[0m \u001b[0;34m(\u001b[0m\u001b[0mJSON\u001b[0m\u001b[0;34m)\u001b[0m\u001b[0;34m:\u001b[0m \u001b[0morder\u001b[0m \u001b[0minstance\u001b[0m \u001b[0mto\u001b[0m \u001b[0mplace\u001b[0m\u001b[0;34m\u001b[0m\u001b[0;34m\u001b[0m\u001b[0m\n\u001b[1;32m    638\u001b[0m         \"\"\"\n\u001b[0;32m--> 639\u001b[0;31m         return self._request(\n\u001b[0m\u001b[1;32m    640\u001b[0m             \u001b[0mPLACE_ORDER\u001b[0m\u001b[0;34m.\u001b[0m\u001b[0mformat\u001b[0m\u001b[0;34m(\u001b[0m\u001b[0maccountId\u001b[0m\u001b[0;34m=\u001b[0m\u001b[0maccountId\u001b[0m\u001b[0;34m)\u001b[0m\u001b[0;34m,\u001b[0m \u001b[0mmethod\u001b[0m\u001b[0;34m=\u001b[0m\u001b[0;34m\"POST\"\u001b[0m\u001b[0;34m,\u001b[0m \u001b[0mjson\u001b[0m\u001b[0;34m=\u001b[0m\u001b[0morder\u001b[0m\u001b[0;34m\u001b[0m\u001b[0;34m\u001b[0m\u001b[0m\n\u001b[1;32m    641\u001b[0m         )\n",
      "\u001b[0;32m~/Projects/tdameritrade/tdameritrade/client.py\u001b[0m in \u001b[0;36m_request\u001b[0;34m(self, url, method, params, *args, **kwargs)\u001b[0m\n\u001b[1;32m     95\u001b[0m         \u001b[0mresp\u001b[0m \u001b[0;34m=\u001b[0m \u001b[0mself\u001b[0m\u001b[0;34m.\u001b[0m\u001b[0msession\u001b[0m\u001b[0;34m.\u001b[0m\u001b[0mrequest\u001b[0m\u001b[0;34m(\u001b[0m\u001b[0mmethod\u001b[0m\u001b[0;34m,\u001b[0m \u001b[0murl\u001b[0m\u001b[0;34m,\u001b[0m \u001b[0mparams\u001b[0m\u001b[0;34m=\u001b[0m\u001b[0mparams\u001b[0m\u001b[0;34m,\u001b[0m \u001b[0;34m*\u001b[0m\u001b[0margs\u001b[0m\u001b[0;34m,\u001b[0m \u001b[0;34m**\u001b[0m\u001b[0mkwargs\u001b[0m\u001b[0;34m)\u001b[0m\u001b[0;34m\u001b[0m\u001b[0;34m\u001b[0m\u001b[0m\n\u001b[1;32m     96\u001b[0m         \u001b[0;32mif\u001b[0m \u001b[0;32mnot\u001b[0m \u001b[0mresponse_is_valid\u001b[0m\u001b[0;34m(\u001b[0m\u001b[0mresp\u001b[0m\u001b[0;34m)\u001b[0m\u001b[0;34m:\u001b[0m\u001b[0;34m\u001b[0m\u001b[0;34m\u001b[0m\u001b[0m\n\u001b[0;32m---> 97\u001b[0;31m             \u001b[0mhandle_error_response\u001b[0m\u001b[0;34m(\u001b[0m\u001b[0mresp\u001b[0m\u001b[0;34m)\u001b[0m\u001b[0;34m\u001b[0m\u001b[0;34m\u001b[0m\u001b[0m\n\u001b[0m\u001b[1;32m     98\u001b[0m         \u001b[0;32mreturn\u001b[0m \u001b[0mresp\u001b[0m\u001b[0;34m\u001b[0m\u001b[0;34m\u001b[0m\u001b[0m\n\u001b[1;32m     99\u001b[0m \u001b[0;34m\u001b[0m\u001b[0m\n",
      "\u001b[0;32m~/Projects/tdameritrade/tdameritrade/exceptions.py\u001b[0m in \u001b[0;36mhandle_error_response\u001b[0;34m(resp)\u001b[0m\n\u001b[1;32m      9\u001b[0m     }\n\u001b[1;32m     10\u001b[0m \u001b[0;34m\u001b[0m\u001b[0m\n\u001b[0;32m---> 11\u001b[0;31m     \u001b[0;32mraise\u001b[0m \u001b[0mcodes\u001b[0m\u001b[0;34m[\u001b[0m\u001b[0mresp\u001b[0m\u001b[0;34m.\u001b[0m\u001b[0mstatus_code\u001b[0m\u001b[0;34m]\u001b[0m\u001b[0;34m(\u001b[0m\u001b[0;34m)\u001b[0m\u001b[0;34m\u001b[0m\u001b[0;34m\u001b[0m\u001b[0m\n\u001b[0m\u001b[1;32m     12\u001b[0m \u001b[0;34m\u001b[0m\u001b[0m\n\u001b[1;32m     13\u001b[0m \u001b[0;34m\u001b[0m\u001b[0m\n",
      "\u001b[0;31mValidationError\u001b[0m: -1: An unknown error occurred"
     ]
    }
   ],
   "source": [
    "# This will fail to return because the place order API does not return a JSONserializable response on success\n",
    "# BUT the order will still go through.  Checked on the site.  You can also check your active orders below.\n",
    "\n",
    "try:\n",
    "    response = td_client.placeOrder(account_id, order.json())\n",
    "    pprint(response)\n",
    "except json.decoder.JSONDecodeError as err:\n",
    "    print(err)\n"
   ]
  },
  {
   "cell_type": "markdown",
   "metadata": {},
   "source": [
    "### Getting out Orders"
   ]
  },
  {
   "cell_type": "code",
   "execution_count": 12,
   "metadata": {},
   "outputs": [],
   "source": [
    "# Load account info to get account ID for get orders\n",
    "#td_client.accounts()\n",
    "\n",
    "#account_id = td_client.accountIds[0]"
   ]
  },
  {
   "cell_type": "code",
   "execution_count": 13,
   "metadata": {
    "tags": []
   },
   "outputs": [
    {
     "name": "stdout",
     "output_type": "stream",
     "text": [
      "[]\n"
     ]
    }
   ],
   "source": [
    "# Print out orders\n",
    "my_orders = td_client.orders(accountId=account_id)\n",
    "pprint(my_orders)"
   ]
  },
  {
   "cell_type": "markdown",
   "metadata": {},
   "source": [
    "### Deleting Orders"
   ]
  },
  {
   "cell_type": "code",
   "execution_count": 19,
   "metadata": {},
   "outputs": [],
   "source": [
    "# This deletes all WORKING orders\n",
    "\n",
    "# for order in my_orders:\n",
    "#     if order[\"status\"] == Status.WORKING and order[\"cancelable\"]:\n",
    "#         response = td_client.cancelOrder(account_id, order[\"orderId\"])\n",
    "#         pprint(response)"
   ]
  }
 ],
 "metadata": {
  "kernelspec": {
   "display_name": "mytdameritrade",
   "language": "python",
   "name": "mytdameritrade"
  },
  "language_info": {
   "codemirror_mode": {
    "name": "ipython",
    "version": 3
   },
   "file_extension": ".py",
   "mimetype": "text/x-python",
   "name": "python",
   "nbconvert_exporter": "python",
   "pygments_lexer": "ipython3",
   "version": "3.9.1"
  }
 },
 "nbformat": 4,
 "nbformat_minor": 4
}
