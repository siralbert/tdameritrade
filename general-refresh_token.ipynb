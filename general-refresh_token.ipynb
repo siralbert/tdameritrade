{
 "cells": [
  {
   "cell_type": "markdown",
   "metadata": {},
   "source": [
    "# General Usage"
   ]
  },
  {
   "cell_type": "code",
   "execution_count": 1,
   "metadata": {},
   "outputs": [],
   "source": [
    "from pprint import pprint\n",
    "import tdameritrade as td\n",
    "import os\n",
    "import json"
   ]
  },
  {
   "cell_type": "markdown",
   "metadata": {},
   "source": [
    "## Authentication\n",
    "\n"
   ]
  },
  {
   "cell_type": "code",
   "execution_count": 2,
   "metadata": {},
   "outputs": [],
   "source": [
    "# get refreshtoken from file\n",
    "refreshtoken = open(os.path.expanduser('~/.r_token'), 'r')\n",
    "line = refreshtoken.readline()\n",
    "refreshtoken.close()\n",
    "\n",
    "client_id = os.getenv('TDAMERITRADE_CLIENT_ID')\n",
    "account_id = os.getenv('TDAMERITRADE_ACCOUNT_ID')\n",
    "\n",
    "# authenticate and initialize TD Client\n",
    "td_client = td.TDClient(client_id=client_id, refresh_token=line)\n",
    "\n"
   ]
  },
  {
   "cell_type": "markdown",
   "metadata": {},
   "source": [
    "## API Examples"
   ]
  },
  {
   "cell_type": "code",
   "execution_count": 3,
   "metadata": {
    "tags": []
   },
   "outputs": [],
   "source": [
    "# shows private account info\n",
    "#pprint(td_client.accounts())"
   ]
  },
  {
   "cell_type": "markdown",
   "metadata": {},
   "source": [
    "### Getting Symbol Data"
   ]
  },
  {
   "cell_type": "code",
   "execution_count": 4,
   "metadata": {
    "tags": []
   },
   "outputs": [
    {
     "name": "stdout",
     "output_type": "stream",
     "text": [
      "{'AAPL': {'assetType': 'EQUITY',\n",
      "          'cusip': '037833100',\n",
      "          'description': 'Apple Inc. - Common Stock',\n",
      "          'exchange': 'NASDAQ',\n",
      "          'symbol': 'AAPL'}}\n"
     ]
    }
   ],
   "source": [
    "pprint(td_client.search('aapl'))"
   ]
  },
  {
   "cell_type": "code",
   "execution_count": 5,
   "metadata": {
    "tags": []
   },
   "outputs": [
    {
     "name": "stdout",
     "output_type": "stream",
     "text": [
      "{'AAPL': {'52WkHigh': 145.09,\n",
      "          '52WkLow': 53.1525,\n",
      "          'askId': 'Q',\n",
      "          'askPrice': 136.24,\n",
      "          'askSize': 100,\n",
      "          'assetMainType': 'EQUITY',\n",
      "          'assetType': 'EQUITY',\n",
      "          'bidId': 'Q',\n",
      "          'bidPrice': 136.23,\n",
      "          'bidSize': 100,\n",
      "          'bidTick': ' ',\n",
      "          'closePrice': 136.76,\n",
      "          'cusip': '037833100',\n",
      "          'delayed': False,\n",
      "          'description': 'Apple Inc. - Common Stock',\n",
      "          'digits': 4,\n",
      "          'divAmount': 0.82,\n",
      "          'divDate': '2021-02-05 00:00:00.000',\n",
      "          'divYield': 0.6,\n",
      "          'exchange': 'q',\n",
      "          'exchangeName': 'NASD',\n",
      "          'highPrice': 0.0,\n",
      "          'lastId': 'D',\n",
      "          'lastPrice': 136.24,\n",
      "          'lastSize': 0,\n",
      "          'lowPrice': 0.0,\n",
      "          'marginable': True,\n",
      "          'mark': 136.24,\n",
      "          'markChangeInDouble': -0.52,\n",
      "          'markPercentChangeInDouble': -0.3802,\n",
      "          'nAV': 0.0,\n",
      "          'netChange': -0.52,\n",
      "          'netPercentChangeInDouble': -0.3802,\n",
      "          'openPrice': 0.0,\n",
      "          'peRatio': 36.9712,\n",
      "          'quoteTimeInLong': 1612790753714,\n",
      "          'regularMarketLastPrice': 136.76,\n",
      "          'regularMarketLastSize': 32349,\n",
      "          'regularMarketNetChange': 0.0,\n",
      "          'regularMarketPercentChangeInDouble': 0.0,\n",
      "          'regularMarketTradeTimeInLong': 1612558800630,\n",
      "          'securityStatus': 'Normal',\n",
      "          'shortable': True,\n",
      "          'symbol': 'AAPL',\n",
      "          'totalVolume': 816824,\n",
      "          'tradeTimeInLong': 1612790754526,\n",
      "          'volatility': 0.0495}}\n"
     ]
    }
   ],
   "source": [
    "pprint(td_client.quote('aapl'))"
   ]
  },
  {
   "cell_type": "code",
   "execution_count": 6,
   "metadata": {
    "tags": []
   },
   "outputs": [
    {
     "name": "stdout",
     "output_type": "stream",
     "text": [
      "[{'assetType': 'EQUITY',\n",
      "  'cusip': '037833100',\n",
      "  'description': 'Apple Inc. - Common Stock',\n",
      "  'exchange': 'NASDAQ',\n",
      "  'symbol': 'AAPL'}]\n"
     ]
    }
   ],
   "source": [
    "pprint(td_client.instrument('037833100'))"
   ]
  },
  {
   "cell_type": "code",
   "execution_count": 7,
   "metadata": {},
   "outputs": [
    {
     "data": {
      "text/html": [
       "<div>\n",
       "<style scoped>\n",
       "    .dataframe tbody tr th:only-of-type {\n",
       "        vertical-align: middle;\n",
       "    }\n",
       "\n",
       "    .dataframe tbody tr th {\n",
       "        vertical-align: top;\n",
       "    }\n",
       "\n",
       "    .dataframe thead th {\n",
       "        text-align: right;\n",
       "    }\n",
       "</style>\n",
       "<table border=\"1\" class=\"dataframe\">\n",
       "  <thead>\n",
       "    <tr style=\"text-align: right;\">\n",
       "      <th></th>\n",
       "      <th>open</th>\n",
       "      <th>high</th>\n",
       "      <th>low</th>\n",
       "      <th>close</th>\n",
       "      <th>volume</th>\n",
       "      <th>datetime</th>\n",
       "    </tr>\n",
       "  </thead>\n",
       "  <tbody>\n",
       "    <tr>\n",
       "      <th>0</th>\n",
       "      <td>141.92</td>\n",
       "      <td>142.33</td>\n",
       "      <td>141.89</td>\n",
       "      <td>142.33</td>\n",
       "      <td>57702</td>\n",
       "      <td>1611576000000</td>\n",
       "    </tr>\n",
       "    <tr>\n",
       "      <th>1</th>\n",
       "      <td>142.35</td>\n",
       "      <td>142.50</td>\n",
       "      <td>142.30</td>\n",
       "      <td>142.40</td>\n",
       "      <td>25874</td>\n",
       "      <td>1611576060000</td>\n",
       "    </tr>\n",
       "    <tr>\n",
       "      <th>2</th>\n",
       "      <td>142.40</td>\n",
       "      <td>142.46</td>\n",
       "      <td>142.35</td>\n",
       "      <td>142.40</td>\n",
       "      <td>55393</td>\n",
       "      <td>1611576120000</td>\n",
       "    </tr>\n",
       "    <tr>\n",
       "      <th>3</th>\n",
       "      <td>142.40</td>\n",
       "      <td>142.40</td>\n",
       "      <td>142.31</td>\n",
       "      <td>142.35</td>\n",
       "      <td>20794</td>\n",
       "      <td>1611576180000</td>\n",
       "    </tr>\n",
       "    <tr>\n",
       "      <th>4</th>\n",
       "      <td>142.35</td>\n",
       "      <td>142.45</td>\n",
       "      <td>142.30</td>\n",
       "      <td>142.35</td>\n",
       "      <td>24813</td>\n",
       "      <td>1611576240000</td>\n",
       "    </tr>\n",
       "  </tbody>\n",
       "</table>\n",
       "</div>"
      ],
      "text/plain": [
       "     open    high     low   close  volume       datetime\n",
       "0  141.92  142.33  141.89  142.33   57702  1611576000000\n",
       "1  142.35  142.50  142.30  142.40   25874  1611576060000\n",
       "2  142.40  142.46  142.35  142.40   55393  1611576120000\n",
       "3  142.40  142.40  142.31  142.35   20794  1611576180000\n",
       "4  142.35  142.45  142.30  142.35   24813  1611576240000"
      ]
     },
     "execution_count": 7,
     "metadata": {},
     "output_type": "execute_result"
    }
   ],
   "source": [
    "import pandas as pd\n",
    "pd.DataFrame(td_client.history('AAPL')['candles']).head()"
   ]
  },
  {
   "cell_type": "markdown",
   "metadata": {},
   "source": [
    "### Getting Option Data"
   ]
  },
  {
   "cell_type": "code",
   "execution_count": 8,
   "metadata": {},
   "outputs": [],
   "source": [
    "options = td_client.options('AAPL')"
   ]
  },
  {
   "cell_type": "code",
   "execution_count": 9,
   "metadata": {
    "tags": []
   },
   "outputs": [
    {
     "name": "stdout",
     "output_type": "stream",
     "text": [
      "Expiry Date: 2021-02-12:4\n",
      "Strike Price: 65.0\n",
      "[{'ask': 0.01,\n",
      "  'askSize': 135,\n",
      "  'bid': 0.0,\n",
      "  'bidAskSize': '0X135',\n",
      "  'bidSize': 0,\n",
      "  'closePrice': 0.0,\n",
      "  'daysToExpiration': 4,\n",
      "  'deliverableNote': '',\n",
      "  'delta': 0.0,\n",
      "  'description': 'AAPL Feb 12 2021 65 Put (Weekly)',\n",
      "  'exchangeName': 'OPR',\n",
      "  'expirationDate': 1613163600000,\n",
      "  'expirationType': 'S',\n",
      "  'gamma': 0.0,\n",
      "  'highPrice': 0.0,\n",
      "  'inTheMoney': False,\n",
      "  'isIndexOption': None,\n",
      "  'last': 0.01,\n",
      "  'lastSize': 0,\n",
      "  'lastTradingDay': 1613178000000,\n",
      "  'lowPrice': 0.0,\n",
      "  'mark': 0.01,\n",
      "  'markChange': 0.0,\n",
      "  'markPercentChange': 4900.0,\n",
      "  'mini': False,\n",
      "  'multiplier': 100.0,\n",
      "  'netChange': 0.01,\n",
      "  'nonStandard': False,\n",
      "  'openInterest': 28,\n",
      "  'openPrice': 0.0,\n",
      "  'optionDeliverablesList': None,\n",
      "  'percentChange': 9900.0,\n",
      "  'putCall': 'PUT',\n",
      "  'quoteTimeInLong': 1612558799661,\n",
      "  'rho': 0.0,\n",
      "  'settlementType': ' ',\n",
      "  'strikePrice': 65.0,\n",
      "  'symbol': 'AAPL_021221P65',\n",
      "  'theoreticalOptionValue': 0.0,\n",
      "  'theoreticalVolatility': 29.0,\n",
      "  'theta': 0.0,\n",
      "  'timeValue': 0.01,\n",
      "  'totalVolume': 0,\n",
      "  'tradeDate': None,\n",
      "  'tradeTimeInLong': 1612544837252,\n",
      "  'vega': 0.0,\n",
      "  'volatility': 126.813}]\n"
     ]
    }
   ],
   "source": [
    "expiry_dates = list(options['putExpDateMap'].keys())\n",
    "expiry = expiry_dates[0]\n",
    "print(f\"Expiry Date: {expiry}\")\n",
    "\n",
    "strike_prices = list(options['putExpDateMap'][expiry].keys())\n",
    "strike = strike_prices[0]\n",
    "print(f\"Strike Price: {strike}\")\n",
    "\n",
    "pprint(options['putExpDateMap'][expiry][strike])"
   ]
  },
  {
   "cell_type": "markdown",
   "metadata": {},
   "source": [
    "## Getting Account Positions"
   ]
  },
  {
   "cell_type": "code",
   "execution_count": 11,
   "metadata": {},
   "outputs": [],
   "source": [
    "# PRIVATE account info\n",
    "# pprint(td_client.accounts(positions=True))"
   ]
  },
  {
   "cell_type": "markdown",
   "metadata": {},
   "source": [
    "## Placing an Order"
   ]
  },
  {
   "cell_type": "code",
   "execution_count": null,
   "metadata": {},
   "outputs": [],
   "source": []
  },
  {
   "cell_type": "markdown",
   "metadata": {},
   "source": [
    "### Creating order body for Place Order API"
   ]
  },
  {
   "cell_type": "code",
   "execution_count": 14,
   "metadata": {},
   "outputs": [],
   "source": [
    "from tdameritrade.orders.order_builder import build_buy_market_stock_order\n",
    "\n",
    "# Prints function docstring\n",
    "# build_buy_market_stock_order?"
   ]
  },
  {
   "cell_type": "code",
   "execution_count": 15,
   "metadata": {},
   "outputs": [],
   "source": [
    "symbol = \"HUSA\"  # Cheap stock for example\n",
    "quantity = 1\n",
    "order = build_buy_market_stock_order(symbol, quantity)"
   ]
  },
  {
   "cell_type": "code",
   "execution_count": 16,
   "metadata": {
    "tags": []
   },
   "outputs": [
    {
     "name": "stdout",
     "output_type": "stream",
     "text": [
      "{'duration': 'DAY',\n",
      " 'orderLegCollection': [{'instruction': 'BUY',\n",
      "                         'instrument': {'assetType': 'EQUITY',\n",
      "                                        'symbol': 'HUSA'},\n",
      "                         'quantity': 1}],\n",
      " 'orderStrategyType': 'SINGLE',\n",
      " 'orderType': 'MARKET',\n",
      " 'session': 'NORMAL'}\n"
     ]
    }
   ],
   "source": [
    "pprint(order.asdict())"
   ]
  },
  {
   "cell_type": "markdown",
   "metadata": {},
   "source": [
    "### Submitting Order"
   ]
  },
  {
   "cell_type": "code",
   "execution_count": 18,
   "metadata": {},
   "outputs": [],
   "source": [
    "# Without this, it fails with a 415.\n",
    "# This may screw up other API calls, so it may have to be reset if you want to try other ones.\n",
    "td_client.session.headers = {\n",
    "    \"Content-Type\": \"application/json\"\n",
    "}"
   ]
  },
  {
   "cell_type": "code",
   "execution_count": 19,
   "metadata": {
    "collapsed": true,
    "jupyter": {
     "outputs_hidden": true
    }
   },
   "outputs": [
    {
     "ename": "ValidationError",
     "evalue": "-1: An unknown error occurred",
     "output_type": "error",
     "traceback": [
      "\u001b[0;31m---------------------------------------------------------------------------\u001b[0m",
      "\u001b[0;31mValidationError\u001b[0m                           Traceback (most recent call last)",
      "\u001b[0;32m<ipython-input-19-501b4914af42>\u001b[0m in \u001b[0;36m<module>\u001b[0;34m\u001b[0m\n\u001b[1;32m      3\u001b[0m \u001b[0;34m\u001b[0m\u001b[0m\n\u001b[1;32m      4\u001b[0m \u001b[0;32mtry\u001b[0m\u001b[0;34m:\u001b[0m\u001b[0;34m\u001b[0m\u001b[0;34m\u001b[0m\u001b[0m\n\u001b[0;32m----> 5\u001b[0;31m     \u001b[0mresponse\u001b[0m \u001b[0;34m=\u001b[0m \u001b[0mtd_client\u001b[0m\u001b[0;34m.\u001b[0m\u001b[0mplaceOrder\u001b[0m\u001b[0;34m(\u001b[0m\u001b[0maccount_id\u001b[0m\u001b[0;34m,\u001b[0m \u001b[0morder\u001b[0m\u001b[0;34m.\u001b[0m\u001b[0mjson\u001b[0m\u001b[0;34m(\u001b[0m\u001b[0;34m)\u001b[0m\u001b[0;34m)\u001b[0m\u001b[0;34m\u001b[0m\u001b[0;34m\u001b[0m\u001b[0m\n\u001b[0m\u001b[1;32m      6\u001b[0m     \u001b[0mpprint\u001b[0m\u001b[0;34m(\u001b[0m\u001b[0mresponse\u001b[0m\u001b[0;34m)\u001b[0m\u001b[0;34m\u001b[0m\u001b[0;34m\u001b[0m\u001b[0m\n\u001b[1;32m      7\u001b[0m \u001b[0;32mexcept\u001b[0m \u001b[0mjson\u001b[0m\u001b[0;34m.\u001b[0m\u001b[0mdecoder\u001b[0m\u001b[0;34m.\u001b[0m\u001b[0mJSONDecodeError\u001b[0m \u001b[0;32mas\u001b[0m \u001b[0merr\u001b[0m\u001b[0;34m:\u001b[0m\u001b[0;34m\u001b[0m\u001b[0;34m\u001b[0m\u001b[0m\n",
      "\u001b[0;32m~/Projects/tdameritrade/tdameritrade/client.py\u001b[0m in \u001b[0;36mplaceOrder\u001b[0;34m(self, accountId, order)\u001b[0m\n\u001b[1;32m    637\u001b[0m             \u001b[0morder\u001b[0m \u001b[0;34m(\u001b[0m\u001b[0mJSON\u001b[0m\u001b[0;34m)\u001b[0m\u001b[0;34m:\u001b[0m \u001b[0morder\u001b[0m \u001b[0minstance\u001b[0m \u001b[0mto\u001b[0m \u001b[0mplace\u001b[0m\u001b[0;34m\u001b[0m\u001b[0;34m\u001b[0m\u001b[0m\n\u001b[1;32m    638\u001b[0m         \"\"\"\n\u001b[0;32m--> 639\u001b[0;31m         return self._request(\n\u001b[0m\u001b[1;32m    640\u001b[0m             \u001b[0mPLACE_ORDER\u001b[0m\u001b[0;34m.\u001b[0m\u001b[0mformat\u001b[0m\u001b[0;34m(\u001b[0m\u001b[0maccountId\u001b[0m\u001b[0;34m=\u001b[0m\u001b[0maccountId\u001b[0m\u001b[0;34m)\u001b[0m\u001b[0;34m,\u001b[0m \u001b[0mmethod\u001b[0m\u001b[0;34m=\u001b[0m\u001b[0;34m\"POST\"\u001b[0m\u001b[0;34m,\u001b[0m \u001b[0mjson\u001b[0m\u001b[0;34m=\u001b[0m\u001b[0morder\u001b[0m\u001b[0;34m\u001b[0m\u001b[0;34m\u001b[0m\u001b[0m\n\u001b[1;32m    641\u001b[0m         )\n",
      "\u001b[0;32m~/Projects/tdameritrade/tdameritrade/client.py\u001b[0m in \u001b[0;36m_request\u001b[0;34m(self, url, method, params, *args, **kwargs)\u001b[0m\n\u001b[1;32m     95\u001b[0m         \u001b[0mresp\u001b[0m \u001b[0;34m=\u001b[0m \u001b[0mself\u001b[0m\u001b[0;34m.\u001b[0m\u001b[0msession\u001b[0m\u001b[0;34m.\u001b[0m\u001b[0mrequest\u001b[0m\u001b[0;34m(\u001b[0m\u001b[0mmethod\u001b[0m\u001b[0;34m,\u001b[0m \u001b[0murl\u001b[0m\u001b[0;34m,\u001b[0m \u001b[0mparams\u001b[0m\u001b[0;34m=\u001b[0m\u001b[0mparams\u001b[0m\u001b[0;34m,\u001b[0m \u001b[0;34m*\u001b[0m\u001b[0margs\u001b[0m\u001b[0;34m,\u001b[0m \u001b[0;34m**\u001b[0m\u001b[0mkwargs\u001b[0m\u001b[0;34m)\u001b[0m\u001b[0;34m\u001b[0m\u001b[0;34m\u001b[0m\u001b[0m\n\u001b[1;32m     96\u001b[0m         \u001b[0;32mif\u001b[0m \u001b[0;32mnot\u001b[0m \u001b[0mresponse_is_valid\u001b[0m\u001b[0;34m(\u001b[0m\u001b[0mresp\u001b[0m\u001b[0;34m)\u001b[0m\u001b[0;34m:\u001b[0m\u001b[0;34m\u001b[0m\u001b[0;34m\u001b[0m\u001b[0m\n\u001b[0;32m---> 97\u001b[0;31m             \u001b[0mhandle_error_response\u001b[0m\u001b[0;34m(\u001b[0m\u001b[0mresp\u001b[0m\u001b[0;34m)\u001b[0m\u001b[0;34m\u001b[0m\u001b[0;34m\u001b[0m\u001b[0m\n\u001b[0m\u001b[1;32m     98\u001b[0m         \u001b[0;32mreturn\u001b[0m \u001b[0mresp\u001b[0m\u001b[0;34m\u001b[0m\u001b[0;34m\u001b[0m\u001b[0m\n\u001b[1;32m     99\u001b[0m \u001b[0;34m\u001b[0m\u001b[0m\n",
      "\u001b[0;32m~/Projects/tdameritrade/tdameritrade/exceptions.py\u001b[0m in \u001b[0;36mhandle_error_response\u001b[0;34m(resp)\u001b[0m\n\u001b[1;32m      9\u001b[0m     }\n\u001b[1;32m     10\u001b[0m \u001b[0;34m\u001b[0m\u001b[0m\n\u001b[0;32m---> 11\u001b[0;31m     \u001b[0;32mraise\u001b[0m \u001b[0mcodes\u001b[0m\u001b[0;34m[\u001b[0m\u001b[0mresp\u001b[0m\u001b[0;34m.\u001b[0m\u001b[0mstatus_code\u001b[0m\u001b[0;34m]\u001b[0m\u001b[0;34m(\u001b[0m\u001b[0;34m)\u001b[0m\u001b[0;34m\u001b[0m\u001b[0;34m\u001b[0m\u001b[0m\n\u001b[0m\u001b[1;32m     12\u001b[0m \u001b[0;34m\u001b[0m\u001b[0m\n\u001b[1;32m     13\u001b[0m \u001b[0;34m\u001b[0m\u001b[0m\n",
      "\u001b[0;31mValidationError\u001b[0m: -1: An unknown error occurred"
     ]
    }
   ],
   "source": [
    "# This will fail to return because the place order API does not return a JSONserializable response on success\n",
    "# BUT the order will still go through.  Checked on the site.  You can also check your active orders below.\n",
    "\n",
    "try:\n",
    "    response = td_client.placeOrder(account_id, order.json())\n",
    "    pprint(response)\n",
    "except json.decoder.JSONDecodeError as err:\n",
    "    print(err)\n"
   ]
  },
  {
   "cell_type": "markdown",
   "metadata": {},
   "source": [
    "### Getting out Orders"
   ]
  },
  {
   "cell_type": "code",
   "execution_count": 12,
   "metadata": {},
   "outputs": [],
   "source": [
    "# Load account info to get account ID for get orders\n",
    "#td_client.accounts()\n",
    "\n",
    "#account_id = td_client.accountIds[0]"
   ]
  },
  {
   "cell_type": "code",
   "execution_count": 13,
   "metadata": {
    "tags": []
   },
   "outputs": [
    {
     "name": "stdout",
     "output_type": "stream",
     "text": [
      "[]\n"
     ]
    }
   ],
   "source": [
    "# Print out orders\n",
    "my_orders = td_client.orders(accountId=account_id)\n",
    "pprint(my_orders)"
   ]
  },
  {
   "cell_type": "markdown",
   "metadata": {},
   "source": [
    "### Deleting Orders"
   ]
  },
  {
   "cell_type": "code",
   "execution_count": 19,
   "metadata": {},
   "outputs": [],
   "source": [
    "# This deletes all WORKING orders\n",
    "\n",
    "# for order in my_orders:\n",
    "#     if order[\"status\"] == Status.WORKING and order[\"cancelable\"]:\n",
    "#         response = td_client.cancelOrder(account_id, order[\"orderId\"])\n",
    "#         pprint(response)"
   ]
  }
 ],
 "metadata": {
  "kernelspec": {
   "display_name": "mytdameritrade",
   "language": "python",
   "name": "mytdameritrade"
  },
  "language_info": {
   "codemirror_mode": {
    "name": "ipython",
    "version": 3
   },
   "file_extension": ".py",
   "mimetype": "text/x-python",
   "name": "python",
   "nbconvert_exporter": "python",
   "pygments_lexer": "ipython3",
   "version": "3.9.1"
  }
 },
 "nbformat": 4,
 "nbformat_minor": 4
}
